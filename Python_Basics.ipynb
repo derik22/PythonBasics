{
  "nbformat": 4,
  "nbformat_minor": 0,
  "metadata": {
    "colab": {
      "provenance": []
    },
    "kernelspec": {
      "name": "python3",
      "display_name": "Python 3"
    },
    "language_info": {
      "name": "python"
    }
  },
  "cells": [
    {
      "cell_type": "markdown",
      "source": [
        "                                  Python Basics\n",
        "\n",
        "Questions\n",
        "\n",
        "Q1 What is Python, and why is it popular?\n",
        "\n",
        "Answer:: What is Python:-Python is a high-level, interpreted programming language.It is known for its simple syntax and ease of learning.Python is widely used in web development, data science, automation, and AI. Its large community and rich libraries make it very powerful and popular.\n",
        "\n",
        "-why python is popular:-Python is popular because it has a simple, easy-to-read syntax that’s great for beginners.It supports multiple programming styles, including object-oriented and functional programming.Python has a vast collection of libraries and frameworks for tasks like web development, data analysis, and machine learning.\n",
        "\n",
        "\n",
        "\n",
        "Q2 What is an interpreter in Python ?\n",
        "\n",
        "Answer:: An interpreter in Python is a program that reads and executes Python code line by line.It translates the high-level Python code into machine code at runtime.This allows you to run Python programs without compiling them first. It also helps in easy debugging and testing of code.\n",
        "\n",
        "Q3 What are pre-defined keywords in Python ?\n",
        "\n",
        "Answer:: Pre-defined keywords in Python are reserved words that have special meanings and cannot be used as variable names. They are part of the Python language syntax and help define the structure and rules of the code.Pre-defined Keywords in Python are if, else, while, for, def, class, import, and return.\n",
        "\n",
        "\n",
        "Q4 Can keywords be used as variable names ?\n",
        "\n",
        "Answer:: No, because keywords are reserved words in Python that have special meanings and are used to define the structure and logic of the code. Using them as variable names will cause a syntax error, as the Python interpreter expects them to be used only for their intended purpose. For Example: if ,else, for, while, and , not ETC.\n",
        "\n",
        "          for = 5  \n",
        "          Error: 'for' is a keyword\n",
        "\n",
        "\n",
        "Q5 What is mutability in Python ?\n",
        "\n",
        "Answer:: Mutability in Python refers to whether an object’s value can be changed after it is created.Mutable objects can be changed e.g , list, dict, set.\n",
        "\n",
        "      a = [1, 2, 3]\n",
        "      a[0] = 10\n",
        "\n",
        "      #Output\n",
        "      a=[10,2,3]\n",
        "Q6 Why are lists mutable, but tuples are immutable ?\n",
        "\n",
        "Answer:: List:- Lists are designed to be flexible you can add, remove, or change elements.They are mutable so you can modify their contents without creating a new list.\n",
        "Tuples:- Tuples on the other hand, are meant to be fixed collections of items.They are immutable to ensure data integrity, performance, and use in situations where constant values are needed\n",
        "\n",
        "\n",
        "\n",
        "\n",
        "Q7 What is the difference between “==” and “is” operators in Python ?\n",
        "\n",
        "Answer:: == (Equality Operator):- Checks if two values are equal\n",
        "\n",
        "is (Identity Operator):- Checks if two variables refer to the same object in memory.\n",
        "\n",
        "For Example:-\n",
        "\n",
        "        a = [1, 2, 3]\n",
        "        b = [1, 2, 3]\n",
        "\n",
        "        a == b #True (contents are equal)\n",
        "        a is b #False (different memory locations)\n",
        "\n",
        "Q8 What are logical operators in Python ?\n",
        "\n",
        "Answer::Logical operators in Python are used to combine conditional statements.They return Boolean values True or False based on the logic between expressions.\n",
        "\n",
        "Types of Logical Operators:- and,or,not.\n",
        "\n",
        "          and – Returns True if both conditions are true.\n",
        "\n",
        "          x = 5\n",
        "          x > 2 and x < 10  # True\n",
        "          or – Returns True if at least one condition is true.\n",
        "\n",
        "          x = 5\n",
        "          x < 2 or x < 10  # True\n",
        "          not – Reverses the result True becomes Fals\n",
        "\n",
        "          x = 5\n",
        "          not(x > 2)  # False\n",
        "\n",
        "Q9 What is type casting in Python ?\n",
        "\n",
        "Answer:: Type casting in Python means converting a value from one data type to another.It allows you to change the data type of variables manually using built-in functions. Type Of TypeCasting Functions In Python:-\n",
        "\n",
        "          int() – Converts to integer\n",
        "\n",
        "          float() – Converts to float\n",
        "\n",
        "          str() – Converts to string\n",
        "\n",
        "          bool() – Converts to boolean\n",
        "Example\n",
        "\n",
        "               x = \"10\"\n",
        "               y = int(x)   # y becomes 10 (an integer)\n",
        "Q10 What is the difference between implicit and explicit type casting ?\n",
        "\n",
        "Answer::- implicit:- Done automatically by Python when no data loss occurs\n",
        "explicit:- Done manually by the programmer using type conversion functions.\n",
        "Example\n",
        "\n",
        "          # Implicit\n",
        "          a = 5\n",
        "          b = 2.0\n",
        "          c = a + b  # c is 7.0 (float)\n",
        "\n",
        "          # Explicit\n",
        "          x = \"10\"\n",
        "          y = int(x)  # y is 10 (int)\n",
        "Q11 What is the purpose of conditional statements in Python ?\n",
        "\n",
        "Answer::- The purpose of conditional statements in Python is to make decisions in your code.They allow the program to execute certain blocks of code only when specific conditions are true.\n",
        "Conditional Statements:\n",
        "\n",
        "     # if\n",
        "\n",
        "     # elif\n",
        "\n",
        "     # else\n",
        "Example\n",
        "\n",
        "        age = 18\n",
        "        if age >= 18:\n",
        "            print(\"You can vote\")\n",
        "        else:\n",
        "            print(\"You cannot vote\")\n",
        "Q12 How does the elif statement work ?\n",
        "\n",
        "Answer::- The elif statement is used to check multiple conditions after an initial if.It allows you to add additional checks when the first if condition is false.\n",
        "Example :- x = 20\n",
        "\n",
        "              if x < 10:\n",
        "                  print(\"Less than 10\")\n",
        "              elif x < 30:\n",
        "                  print(\"Less than 30\")\n",
        "              else:\n",
        "                  print(\"30 or more\")\n",
        "\n",
        "              Output: Less than 30\n",
        "Q13 What is the difference between for and while loops ?\n",
        "\n",
        "Answer::- Forloop:- for loop is used when the number of iterations is known or you're iterating over a sequence.for loop uses a range or iterable to repeat.for is generally used for counted loops.\n",
        "While Loop:- while loop is used when the number of iterations is unknown and depends on a condition.while loop runs as long as the condition is true. while is for conditional loops.\n",
        "Example:\n",
        "\n",
        "              for i in range(5):       i = 0\n",
        "                  print(i)             while i < 5:\n",
        "                                          print(i)\n",
        "                                          i += 1\n",
        "\n",
        "              #Output:-                    #Output:-\n",
        "                 0                           0\n",
        "                 1                           1\n",
        "                 2                           2\n",
        "                 3                           3\n",
        "                 4                           4\n",
        "Q14 Describe a scenario where a while loop is more suitable than a for loop.?\n",
        "\n",
        "Answer::- A while loop is better when you don’t know in advance how many times the loop needs to run, and the loop depends on a condition being true.The loop should run as long as the condition is not met, which suits a while loop.\n",
        "Eample:-\n",
        "\n",
        "          count = 0\n",
        "          while count < 3:\n",
        "              print(\"Hello\")\n",
        "              count += 1\n",
        "\n",
        "          #output:=\n",
        "          Hello\n",
        "          Hello\n",
        "          Hello\n",
        "\n",
        "[ ]"
      ],
      "metadata": {
        "id": "gz8-ykXnVhUZ"
      }
    },
    {
      "cell_type": "code",
      "source": [
        "#Practical Questions\n",
        "#Q1  Write a Python program to print \"Hello, World!\n",
        "print(\"Hello, World\")"
      ],
      "metadata": {
        "colab": {
          "base_uri": "https://localhost:8080/"
        },
        "id": "PlvpMOOqWh2p",
        "outputId": "9bef9dcb-3c7e-4712-d77d-63936f998b20"
      },
      "execution_count": null,
      "outputs": [
        {
          "output_type": "stream",
          "name": "stdout",
          "text": [
            "Hello, World\n"
          ]
        }
      ]
    },
    {
      "cell_type": "code",
      "source": [
        "#Q2  Write a Python program that displays your name and age8\n",
        "\n",
        "name=input(\"Enter The Name:-\")\n",
        "age=int(input(\"Enter Your Age:-\"))\n",
        "print(f\"Name:-{name} age={age}\")"
      ],
      "metadata": {
        "colab": {
          "base_uri": "https://localhost:8080/"
        },
        "id": "Z95ddpEgWtKB",
        "outputId": "ace20b32-eaff-44d1-ece4-2549e57c945f"
      },
      "execution_count": null,
      "outputs": [
        {
          "output_type": "stream",
          "name": "stdout",
          "text": [
            "Enter The Name:-vaibhav khairnar\n",
            "Enter Your Age:-22\n",
            "Name:-vaibhav khairnar age=22\n"
          ]
        }
      ]
    },
    {
      "cell_type": "code",
      "source": [
        "#Q3 Write code to print all the pre-defined keywords in Python using the keyword library\n",
        "\n",
        "import keyword\n",
        "\n",
        "print(\"Python Keywords:\")\n",
        "for kw in keyword.kwlist:\n",
        "    print(kw)"
      ],
      "metadata": {
        "colab": {
          "base_uri": "https://localhost:8080/"
        },
        "id": "_ixrjJAIWxI9",
        "outputId": "19398a15-73b7-41ff-8632-6cd2ed32745e"
      },
      "execution_count": null,
      "outputs": [
        {
          "output_type": "stream",
          "name": "stdout",
          "text": [
            "Python Keywords:\n",
            "False\n",
            "None\n",
            "True\n",
            "and\n",
            "as\n",
            "assert\n",
            "async\n",
            "await\n",
            "break\n",
            "class\n",
            "continue\n",
            "def\n",
            "del\n",
            "elif\n",
            "else\n",
            "except\n",
            "finally\n",
            "for\n",
            "from\n",
            "global\n",
            "if\n",
            "import\n",
            "in\n",
            "is\n",
            "lambda\n",
            "nonlocal\n",
            "not\n",
            "or\n",
            "pass\n",
            "raise\n",
            "return\n",
            "try\n",
            "while\n",
            "with\n",
            "yield\n"
          ]
        }
      ]
    },
    {
      "cell_type": "code",
      "source": [
        "# Q4Write a program that checks if a given word is a Python keyword.\n",
        "\n",
        "import keyword\n",
        "word=input(\"Enter the Word \")\n",
        "if(word in keyword.kwlist):\n",
        "  print(\"Python Keyword\")\n",
        "else:\n",
        "  print(\"Not Python Keyword\")"
      ],
      "metadata": {
        "colab": {
          "base_uri": "https://localhost:8080/"
        },
        "id": "W09l3RmBWxYN",
        "outputId": "574db4c5-2f20-48c1-acd6-10e4ad525e96"
      },
      "execution_count": null,
      "outputs": [
        {
          "output_type": "stream",
          "name": "stdout",
          "text": [
            "Enter the Word if\n",
            "Python Keyword\n"
          ]
        }
      ]
    },
    {
      "cell_type": "code",
      "source": [
        "#Q5 Create a list and tuple in Python, and demonstrate how attempting to change an element works differently for each.\n",
        "\n",
        "list=[1,2,3,4,5]\n",
        "tuple=(1,2,3,4,5)\n",
        "\n",
        "list[0]=10\n",
        "print(list)\n",
        "\n",
        "tuple[0]=10\n",
        "print(tuple)"
      ],
      "metadata": {
        "colab": {
          "base_uri": "https://localhost:8080/",
          "height": 211
        },
        "id": "JnSE4PonWxb3",
        "outputId": "a58ca1db-708e-457b-c735-0f80ef946f71"
      },
      "execution_count": null,
      "outputs": [
        {
          "output_type": "stream",
          "name": "stdout",
          "text": [
            "[10, 2, 3, 4, 5]\n"
          ]
        },
        {
          "output_type": "error",
          "ename": "TypeError",
          "evalue": "'tuple' object does not support item assignment",
          "traceback": [
            "\u001b[0;31m---------------------------------------------------------------------------\u001b[0m",
            "\u001b[0;31mTypeError\u001b[0m                                 Traceback (most recent call last)",
            "\u001b[0;32m/tmp/ipython-input-177939475.py\u001b[0m in \u001b[0;36m<cell line: 0>\u001b[0;34m()\u001b[0m\n\u001b[1;32m      7\u001b[0m \u001b[0mprint\u001b[0m\u001b[0;34m(\u001b[0m\u001b[0mlist\u001b[0m\u001b[0;34m)\u001b[0m\u001b[0;34m\u001b[0m\u001b[0;34m\u001b[0m\u001b[0m\n\u001b[1;32m      8\u001b[0m \u001b[0;34m\u001b[0m\u001b[0m\n\u001b[0;32m----> 9\u001b[0;31m \u001b[0mtuple\u001b[0m\u001b[0;34m[\u001b[0m\u001b[0;36m0\u001b[0m\u001b[0;34m]\u001b[0m\u001b[0;34m=\u001b[0m\u001b[0;36m10\u001b[0m\u001b[0;34m\u001b[0m\u001b[0;34m\u001b[0m\u001b[0m\n\u001b[0m\u001b[1;32m     10\u001b[0m \u001b[0mprint\u001b[0m\u001b[0;34m(\u001b[0m\u001b[0mtuple\u001b[0m\u001b[0;34m)\u001b[0m\u001b[0;34m\u001b[0m\u001b[0;34m\u001b[0m\u001b[0m\n",
            "\u001b[0;31mTypeError\u001b[0m: 'tuple' object does not support item assignment"
          ]
        }
      ]
    },
    {
      "cell_type": "code",
      "source": [
        "#Q6 Write a function to demonstrate the behavior of mutable and immutable arguments.\n",
        "def modify_data(my_list, my_number):\n",
        "  my_list.append(100)\n",
        "  my_number += 10\n",
        "  print(\"Inside function - List:\", my_list)\n",
        "  print(\"Inside function - Number:\", my_number)\n",
        "\n",
        "numbers = [1, 2, 3]\n",
        "value = 50\n",
        "\n",
        "modify_data(numbers, value)\n",
        "\n",
        "print(\"Outside function - List:\", numbers)\n",
        "print(\"Outside function - Number:\", value)"
      ],
      "metadata": {
        "colab": {
          "base_uri": "https://localhost:8080/"
        },
        "id": "ustzj9_yWxfi",
        "outputId": "a6293a8a-f486-4b69-d6bb-fc01d8b4f966"
      },
      "execution_count": null,
      "outputs": [
        {
          "output_type": "stream",
          "name": "stdout",
          "text": [
            "Inside function - List: [1, 2, 3, 100]\n",
            "Inside function - Number: 60\n",
            "Outside function - List: [1, 2, 3, 100]\n",
            "Outside function - Number: 50\n"
          ]
        }
      ]
    },
    {
      "cell_type": "code",
      "source": [
        "#Q7  Write a program that performs basic arithmetic operations on two user-input numbers\n",
        "\n",
        "a=10\n",
        "b=5\n",
        "print(a+b, a*b, a-b, a/b, a//b, a**b, a%b)"
      ],
      "metadata": {
        "colab": {
          "base_uri": "https://localhost:8080/"
        },
        "id": "cpTItOFEWxjQ",
        "outputId": "c418960e-e0e9-4e7b-aaf9-7165c52887bc"
      },
      "execution_count": null,
      "outputs": [
        {
          "output_type": "stream",
          "name": "stdout",
          "text": [
            "15 50 5 2.0 2 100000 0\n"
          ]
        }
      ]
    },
    {
      "cell_type": "code",
      "source": [
        "#Q8 Write a program to demonstrate the use of logical operators.\n",
        "\n",
        "a1=10\n",
        "b=20\n",
        "if(a<b and b>a):\n",
        "  print(bool(1))\n",
        "elif(a>b or a<b):\n",
        "  print(bool(1))\n",
        "elif(not a>b):\n",
        "  print(bool(0))"
      ],
      "metadata": {
        "colab": {
          "base_uri": "https://localhost:8080/"
        },
        "id": "h2OjFOp-WxmK",
        "outputId": "137b6739-9b5e-4418-8ff1-e0b8ce93f37b"
      },
      "execution_count": null,
      "outputs": [
        {
          "output_type": "stream",
          "name": "stdout",
          "text": [
            "True\n"
          ]
        }
      ]
    },
    {
      "cell_type": "code",
      "source": [
        "from string import digits\n",
        "#Q9 Write a Python program to convert user input from string to integer, float, and boolean types.\n",
        "\n",
        "str1= input(\"Enter the Value \")\n",
        "#For Interger\n",
        "if(str1 in digits):\n",
        "  print(int(str1))\n",
        "else:\n",
        "  print(\"We Can Not Convert It to Integer\")\n",
        "\n",
        "#For Float\n",
        "if(str1 in digits):\n",
        "  print(float(str1))\n",
        "else:\n",
        "  print(\"We Can Not Convert It to Float\")\n",
        "\n",
        "#For Boolean\n",
        "if(str1 in digits):\n",
        "  print(bool(str1))"
      ],
      "metadata": {
        "colab": {
          "base_uri": "https://localhost:8080/"
        },
        "id": "xZHPbjwUXE1B",
        "outputId": "420cf96b-09e0-4ca1-b66c-f7f6532eb34f"
      },
      "execution_count": null,
      "outputs": [
        {
          "output_type": "stream",
          "name": "stdout",
          "text": [
            "Enter the Value 12345\n",
            "12345\n",
            "12345.0\n",
            "True\n"
          ]
        }
      ]
    },
    {
      "cell_type": "code",
      "source": [
        "#Q10 Write code to demonstrate type casting with list elements.\n",
        "\n",
        "str_list = ['1', '2', '3', '4', '5']\n",
        "\n",
        "# List comprehension se string elements ko int mein convert karna\n",
        "int_list = [int(item) for item in str_list]\n",
        "\n",
        "print(\"Original list:\", str_list)\n",
        "print(\"After type casting to int:\",int_list)"
      ],
      "metadata": {
        "colab": {
          "base_uri": "https://localhost:8080/"
        },
        "id": "GtZrFdpSXExP",
        "outputId": "20db1d72-355d-48ed-c7a0-28b077f04062"
      },
      "execution_count": null,
      "outputs": [
        {
          "output_type": "stream",
          "name": "stdout",
          "text": [
            "Original list: ['1', '2', '3', '4', '5']\n",
            "After type casting to int: [1, 2, 3, 4, 5]\n"
          ]
        }
      ]
    },
    {
      "cell_type": "code",
      "source": [
        "#Q11 Write a program that checks if a number is positive, negative, or zero.\n",
        "a=int(input(\"Enter The Number \"))\n",
        "if(a > 0):\n",
        "  print(f\"The Number Is Positive={a}\")\n",
        "elif(a < 0):\n",
        "  print(f\"The Number Is Negetive={a}\")\n",
        "else:\n",
        "  print(f\"The Number is Zero\")"
      ],
      "metadata": {
        "colab": {
          "base_uri": "https://localhost:8080/"
        },
        "id": "oK36Cz6PXEkH",
        "outputId": "73870327-4f45-48d8-ceed-177007c3e64c"
      },
      "execution_count": null,
      "outputs": [
        {
          "output_type": "stream",
          "name": "stdout",
          "text": [
            "Enter The Number 45\n",
            "The Number Is Positive=45\n"
          ]
        }
      ]
    },
    {
      "cell_type": "code",
      "source": [
        "#Q12 Write a for loop to print numbers from 1 to 10.\n",
        "for i in range(1,11):\n",
        "  print(i)"
      ],
      "metadata": {
        "colab": {
          "base_uri": "https://localhost:8080/"
        },
        "id": "Y3kaEXKEXERF",
        "outputId": "56295d88-1dcc-46c9-eff6-69f6f58886c4"
      },
      "execution_count": null,
      "outputs": [
        {
          "output_type": "stream",
          "name": "stdout",
          "text": [
            "1\n",
            "2\n",
            "3\n",
            "4\n",
            "5\n",
            "6\n",
            "7\n",
            "8\n",
            "9\n",
            "10\n"
          ]
        }
      ]
    },
    {
      "cell_type": "code",
      "source": [
        "#Q13  Write a Python program to find the sum of all even numbers between 1 and 50.\n",
        "i = 1\n",
        "sum = 0\n",
        "while i <= 50:\n",
        "    if i % 2 == 0:\n",
        "        print(i)\n",
        "        sum += i\n",
        "    i += 1\n",
        "print(f\"The Sum Of Even Numbers Is: {sum}\")\n"
      ],
      "metadata": {
        "colab": {
          "base_uri": "https://localhost:8080/"
        },
        "id": "Jh6GohK8XEOL",
        "outputId": "21b8109d-7d18-454b-f894-6e5fe6292e62"
      },
      "execution_count": null,
      "outputs": [
        {
          "output_type": "stream",
          "name": "stdout",
          "text": [
            "2\n",
            "4\n",
            "6\n",
            "8\n",
            "10\n",
            "12\n",
            "14\n",
            "16\n",
            "18\n",
            "20\n",
            "22\n",
            "24\n",
            "26\n",
            "28\n",
            "30\n",
            "32\n",
            "34\n",
            "36\n",
            "38\n",
            "40\n",
            "42\n",
            "44\n",
            "46\n",
            "48\n",
            "50\n",
            "The Sum Of Even Numbers Is: 650\n"
          ]
        }
      ]
    },
    {
      "cell_type": "code",
      "source": [
        "#Q14 Write a program to reverse a string using a while loop.\n",
        "str1=input(\"Enter The String \")\n",
        "rev=\"\"\n",
        "i=len(str1)-1\n",
        "while(i>=0):\n",
        "    rev+=str1[i]\n",
        "    i-=1\n",
        "print(rev)"
      ],
      "metadata": {
        "colab": {
          "base_uri": "https://localhost:8080/"
        },
        "id": "QtXy7LxHXEKr",
        "outputId": "30be5fd9-19d6-4e8b-b59e-521ba8f33b85"
      },
      "execution_count": null,
      "outputs": [
        {
          "output_type": "stream",
          "name": "stdout",
          "text": [
            "Enter The String hello\n",
            "olleh\n"
          ]
        }
      ]
    },
    {
      "cell_type": "code",
      "source": [
        "#Q15  Write a Python program to calculate the factorial of a number provided by the user using a while loop\n",
        "\n",
        "num = 5\n",
        "if num < 0:\n",
        "    print(\"Factorial is not defined for negative numbers.\")\n",
        "else:\n",
        "    factorial = 1\n",
        "    i = 1\n",
        "    while i <= num:\n",
        "        factorial *= i\n",
        "        i += 1\n",
        "\n",
        "print(f\"The factorial of {num} is {factorial}.\")\n"
      ],
      "metadata": {
        "colab": {
          "base_uri": "https://localhost:8080/"
        },
        "id": "kNDmiIQIXVjt",
        "outputId": "6764c912-3c65-49f9-cfa8-daa64ae26f53"
      },
      "execution_count": null,
      "outputs": [
        {
          "output_type": "stream",
          "name": "stdout",
          "text": [
            "The factorial of 5 is 120.\n"
          ]
        }
      ]
    },
    {
      "cell_type": "code",
      "source": [],
      "metadata": {
        "id": "mkn8i6ioXtM2"
      },
      "execution_count": null,
      "outputs": []
    }
  ]
}